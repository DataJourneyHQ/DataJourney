{
 "cells": [
  {
   "cell_type": "code",
   "execution_count": 5,
   "metadata": {},
   "outputs": [
    {
     "data": {
      "application/vnd.jupyter.widget-view+json": {
       "model_id": "a7245cf6a0bb4b2e8caaeef3ffe07bda",
       "version_major": 2,
       "version_minor": 0
      },
      "text/plain": [
       "MitoWidget(analysis_data_json='{\"analysisName\": \"id-zdsqeikfwn\", \"analysisToReplay\": {\"analysisName\": \"id-xlzr…"
      ]
     },
     "execution_count": 5,
     "metadata": {},
     "output_type": "execute_result"
    }
   ],
   "source": [
    "# Import Python packages\n",
    "import mitosheet\n",
    "mitosheet.sheet(analysis_to_replay=\"id-xlzrjobatr\")"
   ]
  },
  {
   "cell_type": "code",
   "execution_count": 8,
   "metadata": {
    "pycharm": {
     "name": "#%%\n"
    }
   },
   "outputs": [],
   "source": [
    "from mitosheet import *; register_analysis(\"id-xlzrjobatr\");\n",
    "    \n",
    "# Imported TWLO_stock.csv\n",
    "import pandas as pd\n",
    "TWLO_stock = pd.read_csv(r'/Users/sayantikabanik/DataJourney/analytics_framework/intake/data/TWLO_stock.csv')\n",
    "\n",
    "# Sorted date in ascending order\n",
    "TWLO_stock = TWLO_stock.sort_values(by='date', ascending=True, na_position='first')\n",
    "\n",
    "# Filtered date\n",
    "TWLO_stock = TWLO_stock[(TWLO_stock['date'].str.startswith('2016', na=False))]\n",
    "\n",
    "# Pivoted into TWLO_stock\n",
    "TWLO_stock_pivot = pd.DataFrame(data={})\n",
    "\n",
    "# Deleted TWLO_stock_pivot\n",
    "del TWLO_stock_pivot\n"
   ]
  },
  {
   "cell_type": "code",
   "execution_count": 7,
   "metadata": {},
   "outputs": [],
   "source": [
    "# NOTE: \n",
    "# variable names remains same for the code generated - Issue opened - https://github.com/mito-ds/monorepo/issues/464"
   ]
  },
  {
   "cell_type": "code",
   "execution_count": null,
   "metadata": {},
   "outputs": [],
   "source": []
  }
 ],
 "metadata": {
  "kernelspec": {
   "display_name": "journey",
   "language": "python",
   "name": "journey"
  },
  "language_info": {
   "codemirror_mode": {
    "name": "ipython",
    "version": 3
   },
   "file_extension": ".py",
   "mimetype": "text/x-python",
   "name": "python",
   "nbconvert_exporter": "python",
   "pygments_lexer": "ipython3",
   "version": "3.10.4"
  }
 },
 "nbformat": 4,
 "nbformat_minor": 1
}
