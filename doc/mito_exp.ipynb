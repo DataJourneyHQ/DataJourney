{
 "cells": [
  {
   "cell_type": "code",
   "execution_count": null,
   "metadata": {},
   "outputs": [],
   "source": [
    "# Import Python packages\n",
    "import mitosheet\n",
    "mitosheet.sheet(analysis_to_replay=\"id-xlzrjobatr\")"
   ]
  },
  {
   "cell_type": "code",
   "execution_count": null,
   "metadata": {
    "pycharm": {
     "name": "#%%\n"
    }
   },
   "outputs": [],
   "source": [
    "from mitosheet import *; register_analysis(\"id-xlzrjobatr\");\n",
    "    \n",
    "# Imported TWLO_stock.csv\n",
    "import pandas as pd\n",
    "TWLO_stock = pd.read_csv(r'/Users/sayantikabanik/DataJourney/analytics_framework/intake/data/TWLO_stock.csv')\n",
    "\n",
    "# Sorted date in ascending order\n",
    "TWLO_stock = TWLO_stock.sort_values(by='date', ascending=True, na_position='first')\n",
    "\n",
    "# Filtered date\n",
    "TWLO_stock = TWLO_stock[(TWLO_stock['date'].str.startswith('2016', na=False))]\n"
   ]
  },
  {
   "cell_type": "code",
   "execution_count": null,
   "metadata": {},
   "outputs": [],
   "source": [
    "# NOTE: \n",
    "# variable names remains same for the code generated - Issue opened - https://github.com/mito-ds/monorepo/issues/464"
   ]
  },
  {
   "cell_type": "code",
   "execution_count": null,
   "metadata": {},
   "outputs": [],
   "source": []
  }
 ],
 "metadata": {
  "kernelspec": {
   "display_name": "journey",
   "language": "python",
   "name": "journey"
  },
  "language_info": {
   "codemirror_mode": {
    "name": "ipython",
    "version": 3
   },
   "file_extension": ".py",
   "mimetype": "text/x-python",
   "name": "python",
   "nbconvert_exporter": "python",
   "pygments_lexer": "ipython3",
   "version": "3.10.4"
  }
 },
 "nbformat": 4,
 "nbformat_minor": 1
}
