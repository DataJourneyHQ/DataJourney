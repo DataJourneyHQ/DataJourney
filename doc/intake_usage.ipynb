{
 "cells": [
  {
   "cell_type": "code",
   "execution_count": 9,
   "metadata": {},
   "outputs": [],
   "source": [
    "# from intake import open_catalog\n",
    "from analytics_framework.intake.interact_intake import catalog_init"
   ]
  },
  {
   "cell_type": "code",
   "execution_count": 11,
   "metadata": {
    "pycharm": {
     "name": "#%%\n"
    }
   },
   "outputs": [
    {
     "ename": "AttributeError",
     "evalue": "module 'analytics_framework.intake' has no attribute 'open_catalog'",
     "output_type": "error",
     "traceback": [
      "\u001B[0;31m---------------------------------------------------------------------------\u001B[0m",
      "\u001B[0;31mAttributeError\u001B[0m                            Traceback (most recent call last)",
      "\u001B[0;32m/var/folders/lh/5_kkwgsd2_31223njqk0j1p40000gn/T/ipykernel_64072/1424745021.py\u001B[0m in \u001B[0;36m<module>\u001B[0;34m\u001B[0m\n\u001B[0;32m----> 1\u001B[0;31m \u001B[0mcatalog\u001B[0m \u001B[0;34m=\u001B[0m \u001B[0mcatalog_init\u001B[0m\u001B[0;34m(\u001B[0m\u001B[0;34m)\u001B[0m\u001B[0;34m\u001B[0m\u001B[0;34m\u001B[0m\u001B[0m\n\u001B[0m",
      "\u001B[0;32m~/DataJourney/analytics_framework/intake/interact_intake.py\u001B[0m in \u001B[0;36mcatalog_init\u001B[0;34m()\u001B[0m\n\u001B[1;32m      9\u001B[0m     \u001B[0mReturns\u001B[0m\u001B[0;34m:\u001B[0m \u001B[0mIntake\u001B[0m \u001B[0mcatalog\u001B[0m \u001B[0mobject\u001B[0m\u001B[0;34m\u001B[0m\u001B[0;34m\u001B[0m\u001B[0m\n\u001B[1;32m     10\u001B[0m     \"\"\"\n\u001B[0;32m---> 11\u001B[0;31m     \u001B[0mcatalog\u001B[0m \u001B[0;34m=\u001B[0m \u001B[0mintake\u001B[0m\u001B[0;34m.\u001B[0m\u001B[0mopen_catalog\u001B[0m\u001B[0;34m(\u001B[0m\u001B[0mCATALOG_PATH\u001B[0m\u001B[0;34m)\u001B[0m\u001B[0;34m\u001B[0m\u001B[0;34m\u001B[0m\u001B[0m\n\u001B[0m\u001B[1;32m     12\u001B[0m     \u001B[0;32mreturn\u001B[0m \u001B[0mcatalog\u001B[0m\u001B[0;34m\u001B[0m\u001B[0;34m\u001B[0m\u001B[0m\n",
      "\u001B[0;31mAttributeError\u001B[0m: module 'analytics_framework.intake' has no attribute 'open_catalog'"
     ]
    }
   ],
   "source": [
    "catalog = catalog_init()"
   ]
  },
  {
   "cell_type": "code",
   "execution_count": 12,
   "metadata": {},
   "outputs": [],
   "source": [
    "CATALOG_PATH = \"intake/catalog_entry.yml\"\n"
   ]
  },
  {
   "cell_type": "code",
   "execution_count": 13,
   "metadata": {},
   "outputs": [
    {
     "ename": "NameError",
     "evalue": "name 'open_catalog' is not defined",
     "output_type": "error",
     "traceback": [
      "\u001B[0;31m---------------------------------------------------------------------------\u001B[0m",
      "\u001B[0;31mNameError\u001B[0m                                 Traceback (most recent call last)",
      "\u001B[0;32m/var/folders/lh/5_kkwgsd2_31223njqk0j1p40000gn/T/ipykernel_64072/770507881.py\u001B[0m in \u001B[0;36m<module>\u001B[0;34m\u001B[0m\n\u001B[0;32m----> 1\u001B[0;31m \u001B[0mcatalog\u001B[0m \u001B[0;34m=\u001B[0m \u001B[0mopen_catalog\u001B[0m\u001B[0;34m(\u001B[0m\u001B[0mCATALOG_PATH\u001B[0m\u001B[0;34m)\u001B[0m\u001B[0;34m\u001B[0m\u001B[0;34m\u001B[0m\u001B[0m\n\u001B[0m\u001B[1;32m      2\u001B[0m \u001B[0;34m\u001B[0m\u001B[0m\n",
      "\u001B[0;31mNameError\u001B[0m: name 'open_catalog' is not defined"
     ]
    }
   ],
   "source": [
    "catalog = open_catalog(CATALOG_PATH)\n"
   ]
  },
  {
   "cell_type": "code",
   "execution_count": 14,
   "metadata": {},
   "outputs": [
    {
     "name": "stdout",
     "output_type": "stream",
     "text": [
      "# packages in environment at /Users/sayantikabanik/miniforge3/envs/mlops:\r\n",
      "#\r\n",
      "# Name                    Version                   Build  Channel\r\n",
      "intake                    0.6.4              pyhd8ed1ab_0    conda-forge\r\n",
      "intake-parquet            0.2.3                    pypi_0    pypi\r\n"
     ]
    }
   ],
   "source": [
    "! conda list intake"
   ]
  },
  {
   "cell_type": "code",
   "execution_count": 14,
   "metadata": {},
   "outputs": [],
   "source": []
  },
  {
   "cell_type": "code",
   "execution_count": null,
   "outputs": [],
   "source": [],
   "metadata": {
    "collapsed": false,
    "pycharm": {
     "name": "#%%\n"
    }
   }
  }
 ],
 "metadata": {
  "kernelspec": {
   "display_name": "mlops",
   "language": "python",
   "name": "mlops"
  },
  "language_info": {
   "codemirror_mode": {
    "name": "ipython",
    "version": 3
   },
   "file_extension": ".py",
   "mimetype": "text/x-python",
   "name": "python",
   "nbconvert_exporter": "python",
   "pygments_lexer": "ipython3",
   "version": "3.8.12"
  }
 },
 "nbformat": 4,
 "nbformat_minor": 1
}