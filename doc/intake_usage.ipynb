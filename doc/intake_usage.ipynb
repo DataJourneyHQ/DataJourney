{
 "cells": [
  {
   "cell_type": "markdown",
   "metadata": {},
   "source": [
    "# Intake in action"
   ]
  },
  {
   "cell_type": "code",
   "execution_count": 1,
   "metadata": {},
   "outputs": [],
   "source": [
    "import intake\n",
    "from analytics_framework import INTAKE_LOC\n",
    "from pathlib import Path"
   ]
  },
  {
   "cell_type": "markdown",
   "metadata": {},
   "source": [
    "### Construction of catalog path "
   ]
  },
  {
   "cell_type": "code",
   "execution_count": 2,
   "metadata": {},
   "outputs": [],
   "source": [
    "CATALOG_LOC = Path.joinpath(INTAKE_LOC, \"catalog_entry.yml\")"
   ]
  },
  {
   "cell_type": "code",
   "execution_count": 3,
   "metadata": {},
   "outputs": [],
   "source": [
    "catalog = intake.open_catalog(CATALOG_LOC)"
   ]
  },
  {
   "cell_type": "markdown",
   "metadata": {},
   "source": [
    "### Listing all catalog enteries"
   ]
  },
  {
   "cell_type": "code",
   "execution_count": 4,
   "metadata": {},
   "outputs": [
    {
     "data": {
      "text/plain": "['address_sample', 'conutry_overview']"
     },
     "execution_count": 4,
     "metadata": {},
     "output_type": "execute_result"
    }
   ],
   "source": [
    "list(catalog)"
   ]
  },
  {
   "cell_type": "markdown",
   "metadata": {},
   "source": [
    "### Reading `address_sample` entry"
   ]
  },
  {
   "cell_type": "code",
   "execution_count": 11,
   "metadata": {
    "pycharm": {
     "name": "#%%\n"
    }
   },
   "outputs": [],
   "source": [
    "df_address = catalog.address_sample.read()\n",
    "df_address.columns =['first_name', 'last_name', 'street', 'city', 'shortcode', 'pin_code']"
   ]
  },
  {
   "cell_type": "code",
   "execution_count": 12,
   "metadata": {
    "pycharm": {
     "name": "#%%\n"
    }
   },
   "outputs": [
    {
     "data": {
      "text/plain": "(5, 6)"
     },
     "execution_count": 12,
     "metadata": {},
     "output_type": "execute_result"
    }
   ],
   "source": [
    "df_address.shape"
   ]
  },
  {
   "cell_type": "code",
   "execution_count": 13,
   "metadata": {},
   "outputs": [
    {
     "data": {
      "text/plain": "              first_name last_name                            street  \\\n0                   Jack  McGinnis                      220 hobo Av.   \n1          John \"Da Man\"    Repici                 120 Jefferson St.   \n2                Stephen     Tyler  7452 Terrace \"At the Plaza\" road   \n3                    NaN  Blankman                               NaN   \n4  Joan \"the bone\", Anne       Jet               9th, at Terrace plc   \n\n          city shortcode  pin_code  \n0        Phila        PA      9119  \n1    Riverside        NJ      8075  \n2     SomeTown        SD     91234  \n3     SomeTown        SD       298  \n4  Desert City        CO       123  ",
      "text/html": "<div>\n<style scoped>\n    .dataframe tbody tr th:only-of-type {\n        vertical-align: middle;\n    }\n\n    .dataframe tbody tr th {\n        vertical-align: top;\n    }\n\n    .dataframe thead th {\n        text-align: right;\n    }\n</style>\n<table border=\"1\" class=\"dataframe\">\n  <thead>\n    <tr style=\"text-align: right;\">\n      <th></th>\n      <th>first_name</th>\n      <th>last_name</th>\n      <th>street</th>\n      <th>city</th>\n      <th>shortcode</th>\n      <th>pin_code</th>\n    </tr>\n  </thead>\n  <tbody>\n    <tr>\n      <th>0</th>\n      <td>Jack</td>\n      <td>McGinnis</td>\n      <td>220 hobo Av.</td>\n      <td>Phila</td>\n      <td>PA</td>\n      <td>9119</td>\n    </tr>\n    <tr>\n      <th>1</th>\n      <td>John \"Da Man\"</td>\n      <td>Repici</td>\n      <td>120 Jefferson St.</td>\n      <td>Riverside</td>\n      <td>NJ</td>\n      <td>8075</td>\n    </tr>\n    <tr>\n      <th>2</th>\n      <td>Stephen</td>\n      <td>Tyler</td>\n      <td>7452 Terrace \"At the Plaza\" road</td>\n      <td>SomeTown</td>\n      <td>SD</td>\n      <td>91234</td>\n    </tr>\n    <tr>\n      <th>3</th>\n      <td>NaN</td>\n      <td>Blankman</td>\n      <td>NaN</td>\n      <td>SomeTown</td>\n      <td>SD</td>\n      <td>298</td>\n    </tr>\n    <tr>\n      <th>4</th>\n      <td>Joan \"the bone\", Anne</td>\n      <td>Jet</td>\n      <td>9th, at Terrace plc</td>\n      <td>Desert City</td>\n      <td>CO</td>\n      <td>123</td>\n    </tr>\n  </tbody>\n</table>\n</div>"
     },
     "execution_count": 13,
     "metadata": {},
     "output_type": "execute_result"
    }
   ],
   "source": [
    "df_address"
   ]
  },
  {
   "cell_type": "code",
   "execution_count": null,
   "metadata": {},
   "outputs": [],
   "source": []
  }
 ],
 "metadata": {
  "kernelspec": {
   "display_name": "mlops",
   "language": "python",
   "name": "mlops"
  },
  "language_info": {
   "codemirror_mode": {
    "name": "ipython",
    "version": 3
   },
   "file_extension": ".py",
   "mimetype": "text/x-python",
   "name": "python",
   "nbconvert_exporter": "python",
   "pygments_lexer": "ipython3",
   "version": "3.8.12"
  }
 },
 "nbformat": 4,
 "nbformat_minor": 1
}
